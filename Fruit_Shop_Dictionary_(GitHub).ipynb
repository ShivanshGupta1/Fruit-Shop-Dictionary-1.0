{
  "nbformat": 4,
  "nbformat_minor": 0,
  "metadata": {
    "colab": {
      "name": "Fruit Shop Dictionary (GitHub).ipynb",
      "provenance": [],
      "collapsed_sections": [],
      "authorship_tag": "ABX9TyMH7gFAlxajwoMIyxoyfg54",
      "include_colab_link": true
    },
    "kernelspec": {
      "name": "python3",
      "display_name": "Python 3"
    }
  },
  "cells": [
    {
      "cell_type": "markdown",
      "metadata": {
        "id": "view-in-github",
        "colab_type": "text"
      },
      "source": [
        "<a href=\"https://colab.research.google.com/github/ShivanshGupta1/Fruit-Shop-Dictionary-1.0/blob/main/Fruit_Shop_Dictionary_(GitHub).ipynb\" target=\"_parent\"><img src=\"https://colab.research.google.com/assets/colab-badge.svg\" alt=\"Open In Colab\"/></a>"
      ]
    },
    {
      "cell_type": "code",
      "metadata": {
        "id": "-2D5ijE_cnhQ",
        "colab": {
          "base_uri": "https://localhost:8080/",
          "height": 306
        },
        "outputId": "551bfe25-263a-4718-d1eb-32674ec0cc2e"
      },
      "source": [
        "#Fruit Shop Dictionary\n",
        "print(\"Welcome to the fruits shop, let see our great big dictionary\") #these are all the welcome text and it is giving the information on how to run the program\n",
        "print(\"If you want to search press 1\")\n",
        "print(\"If you want to add press 2\")\n",
        "print(\"If you want to delete press 3\")\n",
        "print(\"Lets begin\")\n",
        "fruitDictionary = {\"Mango\":2,\"Orange\":4,\"Apple\":1}\n",
        "print(\"This is our original one - \",fruitDictionary )\n",
        "def add(): # this functions adds new elements (key:value) to the original dictionary\n",
        "  key = input(\"What fruit do you want to add? \") \n",
        "  value = int(input(\"What is the quantity of that fruit?\"))\n",
        "  fruitDictionary[key]=value\n",
        "  print(\"Updated dictionary - \", fruitDictionary)\n",
        "def delete(): # this function deletes already an existing element (key) in the original dictionary\n",
        "  delete = input(\"What fruit do you want to delete?\")\n",
        "  del fruitDictionary[delete]\n",
        "  print(\"Updated dictionary - \", fruitDictionary)\n",
        "def search(): # this function searches and prints the value of an element (key) in the original dictionary\n",
        "  search = input(\"What fruit do you want to search?\")\n",
        "  print(\"The value is - \", fruitDictionary[search])\n",
        "while(True): #this is where its asks the input (1,2,3) for the functions to perform and its runs forever, unless we put any negative number\n",
        "  inputNumber = int(input(\"Number 1 to add, 2 to delete, 3 to search and negative number to stop: \"))\n",
        "  if inputNumber==1:\n",
        "    add();\n",
        "  elif inputNumber==2:\n",
        "    delete();\n",
        "  elif inputNumber==3:\n",
        "    search();\n",
        "  else:\n",
        "    break"
      ],
      "execution_count": null,
      "outputs": [
        {
          "output_type": "stream",
          "text": [
            "Welcome to the fruits shop, let see our great big dictionary\n",
            "If you want to search press 1\n",
            "If you want to add press 2\n",
            "If you want to delete press 3\n",
            "Lets begin\n",
            "This is our original one -  {'Mango': 2, 'Orange': 4, 'Apple': 1}\n",
            "Number 1 to add, 2 to delete, 3 to search and negative number to stop: 1\n",
            "What fruit do you want to add? Kiwi\n",
            "What is the quantity of that fruit?2\n",
            "Updated dictionary -  {'Mango': 2, 'Orange': 4, 'Apple': 1, 'Kiwi': 2}\n",
            "Number 1 to add, 2 to delete, 3 to search and negative number to stop: 2\n",
            "What fruit do you want to delete?Mango\n",
            "Updated dictionary -  {'Orange': 4, 'Apple': 1, 'Kiwi': 2}\n",
            "Number 1 to add, 2 to delete, 3 to search and negative number to stop: 3\n",
            "What fruit do you want to search?Apple\n",
            "The value is -  1\n",
            "Number 1 to add, 2 to delete, 3 to search and negative number to stop: -7890\n"
          ],
          "name": "stdout"
        }
      ]
    }
  ]
}